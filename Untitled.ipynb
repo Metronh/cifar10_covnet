{
 "cells": [
  {
   "cell_type": "code",
   "execution_count": null,
   "metadata": {},
   "outputs": [
    {
     "name": "stdout",
     "output_type": "stream",
     "text": [
      "Train on 50000 samples, validate on 10000 samples\n",
      "Epoch 1/10\n",
      "50000/50000 [==============================] - 40s 791us/sample - loss: 1.4766 - accuracy: 0.4623 - val_loss: 1.2520 - val_accuracy: 0.5600\n",
      "Epoch 2/10\n",
      "50000/50000 [==============================] - 36s 713us/sample - loss: 1.1045 - accuracy: 0.6113 - val_loss: 1.0143 - val_accuracy: 0.6454\n",
      "Epoch 3/10\n",
      "50000/50000 [==============================] - 36s 721us/sample - loss: 0.9563 - accuracy: 0.6636 - val_loss: 0.9325 - val_accuracy: 0.6733\n",
      "Epoch 4/10\n",
      "50000/50000 [==============================] - 42s 846us/sample - loss: 0.8592 - accuracy: 0.6977 - val_loss: 0.8877 - val_accuracy: 0.6906\n",
      "Epoch 5/10\n",
      "50000/50000 [==============================] - 39s 771us/sample - loss: 0.7911 - accuracy: 0.7230 - val_loss: 0.9332 - val_accuracy: 0.6781\n",
      "Epoch 6/10\n",
      "50000/50000 [==============================] - 39s 775us/sample - loss: 0.7278 - accuracy: 0.7441 - val_loss: 0.8631 - val_accuracy: 0.7019\n",
      "Epoch 7/10\n",
      "50000/50000 [==============================] - 37s 743us/sample - loss: 0.6758 - accuracy: 0.7630 - val_loss: 0.8755 - val_accuracy: 0.7112\n",
      "Epoch 8/10\n",
      " 4384/50000 [=>............................] - ETA: 31s - loss: 0.6066 - accuracy: 0.7949"
     ]
    }
   ],
   "source": [
    "import tensorflow as tf\n",
    "\n",
    "from tensorflow.keras import datasets, layers, models\n",
    "import matplotlib.pyplot as plt\n",
    "\n",
    "\n",
    "(train_images, train_labels), (test_images, test_labels) = datasets.cifar10.load_data()\n",
    "\n",
    "# Normalize pixel values to be between 0 and 1\n",
    "train_images, test_images = train_images / 255.0, test_images / 255.0\n",
    "\n",
    "\n",
    "model = models.Sequential()\n",
    "model.add(layers.Conv2D(32, (3, 3), activation='relu', input_shape=(32, 32, 3)))\n",
    "model.add(layers.MaxPooling2D((2, 2)))\n",
    "model.add(layers.Conv2D(64, (3, 3), activation='relu'))\n",
    "model.add(layers.MaxPooling2D((2, 2)))\n",
    "model.add(layers.Conv2D(64, (3, 3), activation='relu'))\n",
    "\n",
    "\n",
    "model.add(layers.Flatten())\n",
    "model.add(layers.Dense(64, activation='relu'))\n",
    "model.add(layers.Dense(10))\n",
    "\n",
    "\n",
    "model.compile(optimizer='adam',\n",
    "              loss=tf.keras.losses.SparseCategoricalCrossentropy(from_logits=True),\n",
    "              metrics=['accuracy'])\n",
    "\n",
    "history = model.fit(train_images, train_labels, epochs=10, \n",
    "                    validation_data=(test_images, test_labels))\n"
   ]
  },
  {
   "cell_type": "code",
   "execution_count": null,
   "metadata": {},
   "outputs": [],
   "source": []
  }
 ],
 "metadata": {
  "kernelspec": {
   "display_name": "Python 3",
   "language": "python",
   "name": "python3"
  },
  "language_info": {
   "codemirror_mode": {
    "name": "ipython",
    "version": 3
   },
   "file_extension": ".py",
   "mimetype": "text/x-python",
   "name": "python",
   "nbconvert_exporter": "python",
   "pygments_lexer": "ipython3",
   "version": "3.7.9"
  }
 },
 "nbformat": 4,
 "nbformat_minor": 4
}
